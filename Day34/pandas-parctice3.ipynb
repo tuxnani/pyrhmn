{
 "cells": [
  {
   "cell_type": "code",
   "id": "initial_id",
   "metadata": {
    "collapsed": true,
    "ExecuteTime": {
     "end_time": "2025-09-17T06:25:27.257403Z",
     "start_time": "2025-09-17T06:25:27.252203Z"
    }
   },
   "source": "import pandas as pd",
   "outputs": [],
   "execution_count": 2
  },
  {
   "metadata": {
    "ExecuteTime": {
     "end_time": "2025-09-17T06:25:31.051738Z",
     "start_time": "2025-09-17T06:25:31.045358Z"
    }
   },
   "cell_type": "code",
   "source": "fruits = pd.DataFrame([[30,21]], columns=[\"Apples\",\"Bananas\"])",
   "id": "3212231c83125633",
   "outputs": [],
   "execution_count": 3
  },
  {
   "metadata": {
    "ExecuteTime": {
     "end_time": "2025-09-17T06:26:00.331233Z",
     "start_time": "2025-09-17T06:26:00.317068Z"
    }
   },
   "cell_type": "code",
   "source": [
    "fruit_sales = pd.DataFrame([[35, 21], [41, 34]], columns=['Apples', 'Bananas'],\n",
    "                index=['2017 Sales', '2018 Sales'])"
   ],
   "id": "5b5c6c528442b66e",
   "outputs": [],
   "execution_count": 4
  },
  {
   "metadata": {
    "ExecuteTime": {
     "end_time": "2025-09-17T06:26:21.138120Z",
     "start_time": "2025-09-17T06:26:21.132605Z"
    }
   },
   "cell_type": "code",
   "source": [
    "quantities = ['4 cups', '1 cup', '2 large', '1 can']\n",
    "items = ['Flour', 'Milk', 'Eggs', 'Spam']\n",
    "ingredients = pd.Series(quantities, index=items, name='Dinner')"
   ],
   "id": "6eee1c377817048a",
   "outputs": [],
   "execution_count": 5
  },
  {
   "metadata": {
    "ExecuteTime": {
     "end_time": "2025-09-17T06:28:15.074092Z",
     "start_time": "2025-09-17T06:28:14.191228Z"
    }
   },
   "cell_type": "code",
   "source": "wine_reviews = pd.read_csv(\"./winemag-data-130k-v2.csv\")",
   "id": "2fc1bfc34ef5ad1f",
   "outputs": [],
   "execution_count": 6
  },
  {
   "metadata": {
    "ExecuteTime": {
     "end_time": "2025-09-17T06:30:57.167279Z",
     "start_time": "2025-09-17T06:30:56.275578Z"
    }
   },
   "cell_type": "code",
   "source": "reviews = pd.read_csv(\"./winemag-data-130k-v2.csv\", index_col=0)",
   "id": "f2c2e83a2100a1ad",
   "outputs": [],
   "execution_count": 9
  },
  {
   "metadata": {
    "ExecuteTime": {
     "end_time": "2025-09-17T06:31:07.181208Z",
     "start_time": "2025-09-17T06:31:07.169158Z"
    }
   },
   "cell_type": "code",
   "source": "animals = pd.DataFrame({'Cows': [12, 20], 'Goats': [22, 19]}, index=['Year 1', 'Year 2'])",
   "id": "8d409120d19d52d5",
   "outputs": [],
   "execution_count": 10
  },
  {
   "metadata": {},
   "cell_type": "code",
   "outputs": [],
   "execution_count": null,
   "source": "",
   "id": "6e9eef595866330a"
  }
 ],
 "metadata": {
  "kernelspec": {
   "display_name": "Python 3",
   "language": "python",
   "name": "python3"
  },
  "language_info": {
   "codemirror_mode": {
    "name": "ipython",
    "version": 2
   },
   "file_extension": ".py",
   "mimetype": "text/x-python",
   "name": "python",
   "nbconvert_exporter": "python",
   "pygments_lexer": "ipython2",
   "version": "2.7.6"
  }
 },
 "nbformat": 4,
 "nbformat_minor": 5
}
